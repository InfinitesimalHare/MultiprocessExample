{
 "cells": [
  {
   "cell_type": "markdown",
   "metadata": {},
   "source": [
    "# Basic application of Multiprocessing package in Python, with simple examples"
   ]
  },
  {
   "cell_type": "markdown",
   "metadata": {},
   "source": [
    "Multiprocessing package is part of Python built-in library. It is important to distinguish between •Thread• and •Process•. •Thread• objects run concurrently within the same process and share memory. Using threads is an easy way to scale for tasks that are more I/O bound than CPU bound. Whereas each *Process* is a true system process without shared memory.\n",
    "\n",
    "Multiprocessing package offers two executor classes, `Pool` and `Process`. `Process` objects each create a new process with one task, whereas `Pool` objects create a given number of workers and multiple tasks can be assigned to the workers based on the workers' availability. "
   ]
  },
  {
   "cell_type": "markdown",
   "metadata": {},
   "source": [
    "Here is a simple example illustrating the basic usage of Process and Pool classes. It is important to keep the entire creation and execution of the multiprocessing behind `if __name__ == '__main__':`."
   ]
  },
  {
   "cell_type": "code",
   "execution_count": 5,
   "metadata": {},
   "outputs": [],
   "source": [
    "import multiprocessing\n",
    "import time\n",
    "import os\n",
    "\n",
    "def do_calculation(data: int):\n",
    "    print('Sleeping for {} seconds at Process name {}, ID {}'.format(data/2, multiprocessing.current_process().name,  os.getpid()))\n",
    "    time.sleep(data/2)\n",
    "    return data * 2\n",
    "def start_process():\n",
    "    timestamp  = time.time() % 100\n",
    "    print('Initiating at time {:.4f} s, at Process name {}, ID {}'.format(timestamp, multiprocessing.current_process().name, os.getpid()))"
   ]
  },
  {
   "cell_type": "markdown",
   "metadata": {},
   "source": [
    "We first set the baseline in the form of serial programming. To record execution time, we use `time.time()` or `time.perf_counter()`. Comparing to `time.process_time()` (measuring CPU time), `time.perf_counter()` measures system time and includes the time during sleep.\n",
    "\n",
    "It is important to notice where to insert time stamp. The method `map(fun, iter)` returns an iterator and `fun` is only executed when the iterator is used (e.g. in a loop, or transformed to a list). To illustrate, in the following example, `do_calculation` is not executed when `builtin_outputs` is created."
   ]
  },
  {
   "cell_type": "code",
   "execution_count": 6,
   "metadata": {},
   "outputs": [
    {
     "name": "stdout",
     "output_type": "stream",
     "text": [
      "Sleeping for 0.0 seconds at Process name MainProcess, ID 55634\n",
      "printing 0\n",
      "Sleeping for 0.5 seconds at Process name MainProcess, ID 55634\n",
      "printing 2\n",
      "Sleeping for 1.0 seconds at Process name MainProcess, ID 55634\n",
      "printing 4\n",
      "Sleeping for 1.5 seconds at Process name MainProcess, ID 55634\n",
      "printing 6\n",
      "Sleeping for 2.0 seconds at Process name MainProcess, ID 55634\n",
      "printing 8\n"
     ]
    }
   ],
   "source": [
    "inputs = list(range(5))\n",
    "builtin_outputs = map(do_calculation, inputs)\n",
    "for i in builtin_outputs:\n",
    "    print('printing', i)   "
   ]
  },
  {
   "cell_type": "markdown",
   "metadata": {},
   "source": [
    "\n",
    "As we can see, the execution time of a serial programming is close to what we expect, around 22.5 s."
   ]
  },
  {
   "cell_type": "code",
   "execution_count": 7,
   "metadata": {},
   "outputs": [
    {
     "name": "stdout",
     "output_type": "stream",
     "text": [
      "Input   : [0, 1, 2, 3, 4]\n",
      "Sleeping for 0.0 seconds at Process name MainProcess, ID 55634\n",
      "Sleeping for 0.5 seconds at Process name MainProcess, ID 55634\n",
      "Sleeping for 1.0 seconds at Process name MainProcess, ID 55634\n",
      "Sleeping for 1.5 seconds at Process name MainProcess, ID 55634\n",
      "Sleeping for 2.0 seconds at Process name MainProcess, ID 55634\n",
      "Built-in: [0, 2, 4, 6, 8]\n",
      "Serial programming takes 5.015839 seconds\n"
     ]
    }
   ],
   "source": [
    "if __name__ == '__main__':\n",
    "    # establish baseline with serial programming\n",
    "    print('Input   :', inputs)\n",
    "    t_start = time.perf_counter()\n",
    "    builtin_outputs = map(do_calculation, inputs)\n",
    "    print('Built-in:', list(builtin_outputs))\n",
    "    t_end = time.perf_counter()\n",
    "    print('Serial programming takes {:4f} seconds'.format(t_end-t_start))"
   ]
  },
  {
   "cell_type": "markdown",
   "metadata": {},
   "source": [
    "Now, we try out three `Pool` methods: `map`, `apply` and `apply_async`. You can either use a `with`-block or the method `.close()`. Call `.join()` to block the main process until all the tasks are finished. The method `map` requires the target function to have arguments. The method `apply` waits for the current tasks to be all finished before assigning the next batch, whereas `apply_async` does not wait, and therefore requires a special `.get()` method to retrieve the result."
   ]
  },
  {
   "cell_type": "markdown",
   "metadata": {},
   "source": [
    "```\n",
    "{\n",
    "if __name__ == '__main__':    \n",
    "    pool_size = multiprocessing.cpu_count() * 2\n",
    "\n",
    "    t0 = time.time()\n",
    "    pool = multiprocessing.Pool(\n",
    "        processes=pool_size,\n",
    "        initializer=start_process,\n",
    "    )\n",
    "    pool_outputs = pool.map(do_calculation, inputs)\n",
    "    pool.close()  # no more tasks\n",
    "    pool.join()  # wrap up current tasks\n",
    "    t1 = time.time()\n",
    "\n",
    "    print('Pool with map:', pool_outputs, 'time: ', t1-t0)\n",
    "    print('*************')\n",
    "    t0a = time.time()\n",
    "    pool = multiprocessing.Pool(\n",
    "        processes=pool_size,\n",
    "        initializer=start_process,\n",
    "    )\n",
    "    pool_applyoutputs = [pool.apply(do_calculation, args = (i,)) for i in inputs]\n",
    "    pool.close()  # no more tasks\n",
    "    pool.join()  # wrap up current tasks\n",
    "    t1a = time.time()\n",
    "    print('Pool with apply:', pool_applyoutputs, 'time: ', t1a-t0a)\n",
    "    print('*************')\n",
    "    t0b = time.time()\n",
    "    with multiprocessing.Pool(processes=pool_size, initializer=start_process) as pool:\n",
    "        pool_applyprocesses = [pool.apply_async(do_calculation, args = (i,)) for i in inputs]\n",
    "        pool_asyncresults = [q.get() for q in pool_applyprocesses]\n",
    "    print('Before: Time {} at Process {}'.format(time.time(), multiprocessing.current_process().name))\n",
    "    pool.join()\n",
    "    print('After: Time {} at Process {}'.format(time.time(), multiprocessing.current_process().name))\n",
    "    t1b = time.time()\n",
    "    print('Pool with apply_async:', pool_applyoutputs, 'time: ', t1b-t0b)\n",
    "}\n",
    "```\n"
   ]
  },
  {
   "cell_type": "markdown",
   "metadata": {},
   "source": [
    "Here is the expected outcome:\n",
    "```\n",
    "{\n",
    "Initiating at time 20.6167 s, at Process name SpawnPoolWorker-1, ID 39884\n",
    "Sleeping for 0.0 seconds at Process name SpawnPoolWorker-1, ID 39884\n",
    "Sleeping for 0.5 seconds at Process name SpawnPoolWorker-1, ID 39884\n",
    "Initiating at time 20.7503 s, at Process name SpawnPoolWorker-7, ID 39890\n",
    "Sleeping for 1.0 seconds at Process name SpawnPoolWorker-7, ID 39890\n",
    "Initiating at time 20.7779 s, at Process name SpawnPoolWorker-2, ID 39885\n",
    "Sleeping for 1.5 seconds at Process name SpawnPoolWorker-2, ID 39885\n",
    "Initiating at time 20.8255 s, at Process name SpawnPoolWorker-4, ID 39887\n",
    "Sleeping for 2.0 seconds at Process name SpawnPoolWorker-4, ID 39887\n",
    "Initiating at time 20.8278 s, at Process name SpawnPoolWorker-6, ID 39889\n",
    "Initiating at time 20.8720 s, at Process name SpawnPoolWorker-5, ID 39888\n",
    "Initiating at time 20.8942 s, at Process name SpawnPoolWorker-3, ID 39886\n",
    "Initiating at time 20.9789 s, at Process name SpawnPoolWorker-8, ID 39891\n",
    "Pool with map: [0, 2, 4, 6, 8] time:  3.2909700870513916\n",
    "*************\n",
    "Initiating at time 24.0436 s, at Process name SpawnPoolWorker-12, ID 39897\n",
    "Sleeping for 0.0 seconds at Process name SpawnPoolWorker-12, ID 39897\n",
    "Sleeping for 0.5 seconds at Process name SpawnPoolWorker-12, ID 39897\n",
    "Initiating at time 24.1203 s, at Process name SpawnPoolWorker-10, ID 39895\n",
    "Initiating at time 24.1743 s, at Process name SpawnPoolWorker-9, ID 39894\n",
    "Initiating at time 24.1896 s, at Process name SpawnPoolWorker-16, ID 39901\n",
    "Initiating at time 24.2187 s, at Process name SpawnPoolWorker-13, ID 39898\n",
    "Initiating at time 24.2523 s, at Process name SpawnPoolWorker-11, ID 39896\n",
    "Initiating at time 24.2536 s, at Process name SpawnPoolWorker-14, ID 39899\n",
    "Initiating at time 24.2545 s, at Process name SpawnPoolWorker-15, ID 39900\n",
    "Sleeping for 1.0 seconds at Process name SpawnPoolWorker-10, ID 39895\n",
    "Sleeping for 1.5 seconds at Process name SpawnPoolWorker-9, ID 39894\n",
    "Sleeping for 2.0 seconds at Process name SpawnPoolWorker-16, ID 39901\n",
    "Pool with apply: [0, 2, 4, 6, 8] time:  6.2480692863464355\n",
    "*************\n",
    "Initiating at time 30.4251 s, at Process name SpawnPoolWorker-21, ID 39906Initiating at time 30.4251 s, at Process name SpawnPoolWorker-17, ID 39902\n",
    "\n",
    "Sleeping for 0.0 seconds at Process name SpawnPoolWorker-17, ID 39902\n",
    "Sleeping for 0.5 seconds at Process name SpawnPoolWorker-21, ID 39906\n",
    "Sleeping for 1.0 seconds at Process name SpawnPoolWorker-17, ID 39902\n",
    "Initiating at time 30.4488 s, at Process name SpawnPoolWorker-19, ID 39904\n",
    "Sleeping for 1.5 seconds at Process name SpawnPoolWorker-19, ID 39904\n",
    "Initiating at time 30.4516 s, at Process name SpawnPoolWorker-20, ID 39905\n",
    "Sleeping for 2.0 seconds at Process name SpawnPoolWorker-20, ID 39905\n",
    "Initiating at time 30.5086 s, at Process name SpawnPoolWorker-22, ID 39907\n",
    "Initiating at time 30.5723 s, at Process name SpawnPoolWorker-23, ID 39908\n",
    "Initiating at time 30.6217 s, at Process name SpawnPoolWorker-24, ID 39909\n",
    "Initiating at time 30.6505 s, at Process name SpawnPoolWorker-18, ID 39903\n",
    "Before: Time 1627847932.470075 at Process MainProcess\n",
    "After: Time 1627847932.4701571 at Process MainProcess\n",
    "Pool with apply_async: [0, 2, 4, 6, 8] time:  2.604996919631958\n",
    "}\n",
    "```"
   ]
  }
 ],
 "metadata": {
  "interpreter": {
   "hash": "2cfee941654ac7a8b9db65ba795c84a70bd882f408ec7ab6da2566c265169b45"
  },
  "kernelspec": {
   "display_name": "Python 3.9.1 64-bit ('venv': venv)",
   "name": "python3"
  },
  "language_info": {
   "codemirror_mode": {
    "name": "ipython",
    "version": 3
   },
   "file_extension": ".py",
   "mimetype": "text/x-python",
   "name": "python",
   "nbconvert_exporter": "python",
   "pygments_lexer": "ipython3",
   "version": "3.9.1"
  },
  "orig_nbformat": 4
 },
 "nbformat": 4,
 "nbformat_minor": 2
}